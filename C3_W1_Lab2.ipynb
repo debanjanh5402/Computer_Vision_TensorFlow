{
  "cells": [
    {
      "cell_type": "markdown",
      "id": "15960803",
      "metadata": {},
      "source": [
        "# Multi-Class Classification: CIFAR-10 dataset (Transfer Learning)\n",
        "---"
      ]
    },
    {
      "cell_type": "code",
      "execution_count": null,
      "id": "fd6dbc2c",
      "metadata": {
        "id": "fd6dbc2c"
      },
      "outputs": [],
      "source": [
        "import os\n",
        "import tensorflow as tf, matplotlib.pyplot as plt, numpy as np, seaborn as sns\n",
        "import sklearn"
      ]
    },
    {
      "cell_type": "code",
      "execution_count": null,
      "id": "4bf4096a",
      "metadata": {
        "colab": {
          "base_uri": "https://localhost:8080/"
        },
        "id": "4bf4096a",
        "outputId": "ff87d7b2-484a-446b-8848-f988c45df5f9"
      },
      "outputs": [],
      "source": [
        "(training_images, training_labels), (validation_images, validation_labels) = tf.keras.datasets.cifar10.load_data()"
      ]
    },
    {
      "cell_type": "code",
      "execution_count": null,
      "id": "cfd563b3",
      "metadata": {
        "colab": {
          "base_uri": "https://localhost:8080/",
          "height": 610
        },
        "id": "cfd563b3",
        "outputId": "118116b5-9aa2-4c2e-c32c-112f0779b489"
      },
      "outputs": [],
      "source": [
        "num_images = 8\n",
        "classes = ['airplane', 'automobile', 'bird', 'cat', 'deer', 'dog', 'frog', 'horse', 'ship', 'truck']\n",
        "\n",
        "random_indices = np.random.choice(len(training_images), size=num_images)\n",
        "selected_images = training_images[random_indices]\n",
        "selected_labels = training_labels[random_indices].flatten(); selected_classes = [classes[i] for i in selected_labels]\n",
        "\n",
        "cols=4; rows=num_images//cols\n",
        "\n",
        "plt.figure(figsize=(cols*3, rows*3), dpi=100)\n",
        "for i in range(num_images):\n",
        "    plt.subplot(rows, cols, i+1); plt.imshow(selected_images[i]); plt.title(f\"{selected_classes[i]}\"); plt.axis(\"off\")\n",
        "\n",
        "plt.suptitle(\"training_images\"); plt.tight_layout(); plt.show()"
      ]
    },
    {
      "cell_type": "code",
      "execution_count": null,
      "id": "6437c0c4",
      "metadata": {
        "id": "6437c0c4"
      },
      "outputs": [],
      "source": [
        "def preprocess_images(images):\n",
        "    # Normalize pixel values to be between 0 and 1\n",
        "    images = images.astype(\"float32\")\n",
        "    images = tf.keras.applications.resnet50.preprocess_input(images)\n",
        "    return images\n",
        "\n",
        "train_X = preprocess_images(training_images)\n",
        "train_Y = tf.keras.utils.to_categorical(training_labels, num_classes=10)\n",
        "\n",
        "validation_X = preprocess_images(validation_images)\n",
        "validation_Y = tf.keras.utils.to_categorical(validation_labels, num_classes=10)"
      ]
    },
    {
      "cell_type": "code",
      "execution_count": null,
      "id": "65cd6d61",
      "metadata": {
        "colab": {
          "base_uri": "https://localhost:8080/",
          "height": 442
        },
        "id": "65cd6d61",
        "outputId": "1e5ab8cf-3853-47b4-bbe0-14d163c95370"
      },
      "outputs": [],
      "source": [
        "def feature_extractor(inputs):\n",
        "    feature_extractor = tf.keras.applications.ResNet50(input_shape=(224, 224, 3), include_top=False, weights='imagenet')(inputs)\n",
        "    feature_extractor.trainable = False\n",
        "    return feature_extractor\n",
        "\n",
        "def classifier(inputs):\n",
        "    x = tf.keras.layers.GlobalAveragePooling2D()(inputs)\n",
        "    x = tf.keras.layers.Flatten()(x)\n",
        "    x = tf.keras.layers.Dense(1024, activation='relu')(x)\n",
        "    x = tf.keras.layers.Dense(512, activation='relu')(x)\n",
        "    outputs = tf.keras.layers.Dense(10, activation='softmax', name=\"Classification\")(x)\n",
        "    return outputs\n",
        "\n",
        "def final_model(inputs):\n",
        "    resize = tf.keras.layers.UpSampling2D(size=(7, 7))(inputs)\n",
        "    x = feature_extractor(resize)\n",
        "    x = classifier(x)\n",
        "    return x\n",
        "\n",
        "def define_compile_model():\n",
        "    inputs = tf.keras.Input(shape=(32, 32, 3))\n",
        "    classification_outputs = final_model(inputs)\n",
        "    model = tf.keras.Model(inputs, classification_outputs, name=\"CIFAR10_Classifier\")\n",
        "    model.compile(optimizer=\"SGD\", loss='categorical_crossentropy', metrics=['accuracy'])\n",
        "    return model\n",
        "\n",
        "model = define_compile_model()\n",
        "model.summary()"
      ]
    },
    {
      "cell_type": "code",
      "execution_count": null,
      "id": "d5c75952",
      "metadata": {
        "colab": {
          "base_uri": "https://localhost:8080/"
        },
        "id": "d5c75952",
        "outputId": "1878eded-fb12-4e66-c07c-11d66cff92e0"
      },
      "outputs": [],
      "source": [
        "EPOCHS = 5\n",
        "history = model.fit(train_X, train_Y, epochs=EPOCHS,\n",
        "                    validation_data=(validation_X, validation_Y),\n",
        "                    verbose=1, batch_size=32)"
      ]
    },
    {
      "cell_type": "code",
      "execution_count": null,
      "id": "c8528d14",
      "metadata": {
        "colab": {
          "base_uri": "https://localhost:8080/"
        },
        "id": "c8528d14",
        "outputId": "f3e2bc68-e0df-4848-92f1-776f888224db"
      },
      "outputs": [],
      "source": [
        "preds = model.predict(validation_X, verbose=1)\n",
        "pred_labels = np.argmax(preds, axis=1)"
      ]
    },
    {
      "cell_type": "code",
      "execution_count": null,
      "id": "d6853098",
      "metadata": {
        "colab": {
          "base_uri": "https://localhost:8080/"
        },
        "id": "d6853098",
        "outputId": "adebcaed-96ad-4567-d166-a46773870e72"
      },
      "outputs": [],
      "source": [
        "loss, accuracy = model.evaluate(validation_X, validation_Y, batch_size=32, verbose=1)\n",
        "print(f\"Validation Loss: {loss}\")\n",
        "print(f\"Validation Accuracy: {accuracy}\")"
      ]
    },
    {
      "cell_type": "code",
      "execution_count": null,
      "id": "1ehxcU-PMI2R",
      "metadata": {
        "colab": {
          "base_uri": "https://localhost:8080/",
          "height": 490
        },
        "id": "1ehxcU-PMI2R",
        "outputId": "d380ebad-4c40-4fee-b6a8-8660f999100d"
      },
      "outputs": [],
      "source": [
        "acc=history.history['accuracy']\n",
        "val_acc=history.history['val_accuracy']\n",
        "loss=history.history['loss']\n",
        "val_loss=history.history['val_loss']\n",
        "\n",
        "epochs=range(len(acc)) # Get number of epochs\n",
        "\n",
        "figure = plt.figure(figsize=(12, 4), dpi=300)\n",
        "\n",
        "plt.subplot(1, 2, 1)\n",
        "plt.plot(epochs, acc, label=\"Training Accuracy\"); plt.plot(epochs, val_acc, label=\"Validation Accuracy\")\n",
        "plt.title('Training and validation accuracy'); plt.xlabel('Epochs'); plt.ylabel('Accuracy')\n",
        "plt.legend(); plt.grid()\n",
        "\n",
        "plt.subplot(1, 2, 2)\n",
        "plt.plot(epochs, loss, label=\"Training Loss\"); plt.plot(epochs, val_loss, label=\"Validation Loss\")\n",
        "plt.title('Training and validation loss'); plt.xlabel('Epochs'); plt.ylabel('Loss')\n",
        "plt.legend(); plt.grid()\n",
        "\n",
        "plt.tight_layout(); plt.show()"
      ]
    },
    {
      "cell_type": "code",
      "execution_count": null,
      "id": "-3JNnoV4NRGh",
      "metadata": {
        "colab": {
          "base_uri": "https://localhost:8080/"
        },
        "id": "-3JNnoV4NRGh",
        "outputId": "1085c9ca-221e-4a0a-e673-80adc2cffee4"
      },
      "outputs": [],
      "source": [
        "from sklearn.metrics import classification_report\n",
        "report = classification_report(validation_labels, pred_labels, target_names=classes)\n",
        "\n",
        "print(\"📊 Classification Report\")\n",
        "print(\"=======================\")\n",
        "print(report)"
      ]
    },
    {
      "cell_type": "code",
      "execution_count": null,
      "id": "W4csijezNnlE",
      "metadata": {
        "colab": {
          "base_uri": "https://localhost:8080/",
          "height": 507
        },
        "id": "W4csijezNnlE",
        "outputId": "d30e983a-f627-45bf-fc23-9ab057d156dd"
      },
      "outputs": [],
      "source": [
        "from sklearn.metrics import confusion_matrix\n",
        "cm = confusion_matrix(validation_labels, pred_labels)\n",
        "\n",
        "plt.figure(figsize=(6, 5), dpi=100)\n",
        "sns.heatmap(cm, cmap='Blues', xticklabels=classes, yticklabels=classes, annot=True, fmt='d')\n",
        "plt.title('Confusion Matrix', fontsize=12)\n",
        "plt.xlabel('Predicted Label', fontsize=8)\n",
        "plt.ylabel('True Label', fontsize=8)\n",
        "\n",
        "plt.tight_layout()\n",
        "plt.show()"
      ]
    }
  ],
  "metadata": {
    "accelerator": "GPU",
    "colab": {
      "gpuType": "T4",
      "provenance": []
    },
    "kernelspec": {
      "display_name": "Python 3",
      "name": "python3"
    },
    "language_info": {
      "name": "python"
    }
  },
  "nbformat": 4,
  "nbformat_minor": 5
}
